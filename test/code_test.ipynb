{
 "cells": [
  {
   "cell_type": "code",
   "execution_count": 6,
   "id": "aca7577e",
   "metadata": {},
   "outputs": [
    {
     "name": "stdout",
     "output_type": "stream",
     "text": [
      "/Users/macbook/Documents/Code/LLMdesignedEA-comp\n"
     ]
    },
    {
     "data": {
      "text/plain": [
       "'/Users/macbook/Documents/Code/LLMdesignedEA-comp'"
      ]
     },
     "execution_count": 6,
     "metadata": {},
     "output_type": "execute_result"
    }
   ],
   "source": [
    "%cd ..\n",
    "import os\n",
    "os.getcwd()"
   ]
  },
  {
   "cell_type": "code",
   "execution_count": 1,
   "id": "935f90b6",
   "metadata": {},
   "outputs": [
    {
     "data": {
      "text/plain": [
       "array([5.55958355, 8.69108802, 5.10764078, 7.0700668 , 7.24751518])"
      ]
     },
     "execution_count": 1,
     "metadata": {},
     "output_type": "execute_result"
    }
   ],
   "source": [
    "import random\n",
    "import numpy as np\n",
    "\n",
    "np.random.uniform(5, 10, 5)"
   ]
  },
  {
   "cell_type": "code",
   "execution_count": 3,
   "id": "d01e7d15",
   "metadata": {},
   "outputs": [
    {
     "name": "stdout",
     "output_type": "stream",
     "text": [
      "<RealSingleObjectiveProblem 1. Sphere (iid=1 dim=5)>\n"
     ]
    }
   ],
   "source": [
    "from ioh import get_problem, logger, problem\n",
    "\n",
    "z = get_problem(1, 1, 5)\n",
    "print(z)\n"
   ]
  },
  {
   "cell_type": "code",
   "execution_count": 1,
   "id": "fa3d4ebe",
   "metadata": {},
   "outputs": [
    {
     "ename": "ModuleNotFoundError",
     "evalue": "No module named 'codes'",
     "output_type": "error",
     "traceback": [
      "\u001b[31m---------------------------------------------------------------------------\u001b[39m",
      "\u001b[31mModuleNotFoundError\u001b[39m                       Traceback (most recent call last)",
      "\u001b[36mCell\u001b[39m\u001b[36m \u001b[39m\u001b[32mIn[1]\u001b[39m\u001b[32m, line 3\u001b[39m\n\u001b[32m      1\u001b[39m \u001b[38;5;28;01mimport\u001b[39;00m\u001b[38;5;250m \u001b[39m\u001b[34;01mos\u001b[39;00m\n\u001b[32m      2\u001b[39m \u001b[38;5;28;01mfrom\u001b[39;00m\u001b[38;5;250m \u001b[39m\u001b[34;01mscipy\u001b[39;00m\u001b[34;01m.\u001b[39;00m\u001b[34;01mio\u001b[39;00m\u001b[38;5;250m \u001b[39m\u001b[38;5;28;01mimport\u001b[39;00m loadmat\n\u001b[32m----> \u001b[39m\u001b[32m3\u001b[39m \u001b[38;5;28;01mfrom\u001b[39;00m\u001b[38;5;250m \u001b[39m\u001b[34;01mcodes\u001b[39;00m\u001b[34;01m.\u001b[39;00m\u001b[34;01mgnbg_python\u001b[39;00m\u001b[34;01m.\u001b[39;00m\u001b[34;01mGNBG_instances\u001b[39;00m\u001b[38;5;250m \u001b[39m\u001b[38;5;28;01mimport\u001b[39;00m GNBG\n\u001b[32m      4\u001b[39m \u001b[38;5;28;01mfrom\u001b[39;00m\u001b[38;5;250m \u001b[39m\u001b[34;01mLLaMEA\u001b[39;00m\u001b[34;01m.\u001b[39;00m\u001b[34;01mmisc\u001b[39;00m\u001b[34;01m.\u001b[39;00m\u001b[34;01mutils\u001b[39;00m\u001b[38;5;250m \u001b[39m\u001b[38;5;28;01mimport\u001b[39;00m aoc_logger, correct_aoc, OverBudgetException\n\u001b[32m      6\u001b[39m problem_idx_to_load = \u001b[32m5\u001b[39m\n",
      "\u001b[31mModuleNotFoundError\u001b[39m: No module named 'codes'"
     ]
    }
   ],
   "source": [
    "import os\n",
    "from scipy.io import loadmat\n",
    "from codes.gnbg_python.GNBG_instances import GNBG\n",
    "from LLaMEA.misc.utils import aoc_logger, correct_aoc, OverBudgetException\n",
    "\n",
    "problem_idx_to_load = 5\n",
    "filename = f'f{problem_idx_to_load}.mat'\n",
    "\n",
    "GNBG_tmp = loadmat(os.path.join(\"codes/gnbg_python\", filename))['GNBG']\n",
    "MaxEvals = np.array([item[0] for item in GNBG_tmp['MaxEvals'].flatten()])[0, 0]\n",
    "AcceptanceThreshold = np.array([item[0] for item in GNBG_tmp['AcceptanceThreshold'].flatten()])[0, 0]\n",
    "Dimension = np.array([item[0] for item in GNBG_tmp['Dimension'].flatten()])[0, 0]\n",
    "CompNum = np.array([item[0] for item in GNBG_tmp['o'].flatten()])[0, 0]  # Number of components\n",
    "MinCoordinate = np.array([item[0] for item in GNBG_tmp['MinCoordinate'].flatten()])[0, 0]\n",
    "MaxCoordinate = np.array([item[0] for item in GNBG_tmp['MaxCoordinate'].flatten()])[0, 0]\n",
    "CompMinPos = np.array(GNBG_tmp['Component_MinimumPosition'][0, 0])\n",
    "CompSigma = np.array(GNBG_tmp['ComponentSigma'][0, 0], dtype=np.float64)\n",
    "CompH = np.array(GNBG_tmp['Component_H'][0, 0])\n",
    "Mu = np.array(GNBG_tmp['Mu'][0, 0])\n",
    "Omega = np.array(GNBG_tmp['Omega'][0, 0])\n",
    "Lambda = np.array(GNBG_tmp['lambda'][0, 0])\n",
    "RotationMatrix = np.array(GNBG_tmp['RotationMatrix'][0, 0])\n",
    "OptimumValue = np.array([item[0] for item in GNBG_tmp['OptimumValue'].flatten()])[0, 0]\n",
    "OptimumPosition = np.array(GNBG_tmp['OptimumPosition'][0, 0])\n",
    "gnbg = GNBG(MaxEvals, AcceptanceThreshold, Dimension, CompNum, MinCoordinate, MaxCoordinate, CompMinPos, CompSigma, CompH, Mu, Omega, Lambda, RotationMatrix, OptimumValue, OptimumPosition)\n"
   ]
  },
  {
   "cell_type": "code",
   "execution_count": 10,
   "id": "0873f6cb",
   "metadata": {},
   "outputs": [
    {
     "data": {
      "text/plain": [
       "-100"
      ]
     },
     "execution_count": 10,
     "metadata": {},
     "output_type": "execute_result"
    }
   ],
   "source": [
    "gnbg.MinCoordinate"
   ]
  },
  {
   "cell_type": "code",
   "execution_count": 22,
   "id": "efaf7af2",
   "metadata": {},
   "outputs": [
    {
     "name": "stdout",
     "output_type": "stream",
     "text": [
      "GNBG.fitness called with X shape: (1, 30), self.FE: 5, self.MaxEvals: 500000\n",
      "AOCC: 0.49730865970463295\n"
     ]
    },
    {
     "data": {
      "text/plain": [
       "array([-334.13145235])"
      ]
     },
     "execution_count": 22,
     "metadata": {},
     "output_type": "execute_result"
    }
   ],
   "source": [
    "random_solution_vector = np.random.uniform(\n",
    "    gnbg.MinCoordinate,\n",
    "    gnbg.MaxCoordinate,\n",
    "    gnbg.Dimension\n",
    ")\n",
    "\n",
    "# The GNBG.fitness method expects a 2D array (batch of solutions)\n",
    "# and returns a 1D array of fitnesses.\n",
    "fitness = gnbg.fitness(random_solution_vector.reshape(1, -1))\n",
    "fitness"
   ]
  },
  {
   "cell_type": "code",
   "execution_count": 23,
   "id": "db224ca0",
   "metadata": {},
   "outputs": [
    {
     "data": {
      "text/plain": [
       "array([-334.03726578, -333.94262777, -333.97042657, -334.01825872,\n",
       "       -334.05542986, -334.13145235])"
      ]
     },
     "execution_count": 23,
     "metadata": {},
     "output_type": "execute_result"
    }
   ],
   "source": [
    "gnbg.FEhistory"
   ]
  },
  {
   "cell_type": "code",
   "execution_count": null,
   "id": "7af80d2b",
   "metadata": {},
   "outputs": [
    {
     "data": {
      "text/plain": [
       "0.1471398644512762"
      ]
     },
     "execution_count": 24,
     "metadata": {},
     "output_type": "execute_result"
    }
   ],
   "source": [
    "import test.calc_aocc_from_gnbg as calc_aocc_from_gnbg\n",
    "import importlib\n",
    "importlib.reload(calc_aocc_from_gnbg)\n",
    "\n",
    "from test.calc_aocc_from_gnbg import calculate_aocc_from_gnbg_history\n",
    "calculate_aocc_from_gnbg_history(fe_history=gnbg.FEhistory, optimum_value=gnbg.OptimumValue, budget_B=gnbg.MaxEvals)"
   ]
  },
  {
   "cell_type": "code",
   "execution_count": 13,
   "id": "28fa9297",
   "metadata": {},
   "outputs": [
    {
     "name": "stdout",
     "output_type": "stream",
     "text": [
      "[20, 30, 40]\n"
     ]
    }
   ],
   "source": [
    "nums = [10, 20, 30, 40, 50]\n",
    "sample = random.sample(nums, 3)\n",
    "print(sample)"
   ]
  },
  {
   "cell_type": "code",
   "execution_count": 14,
   "id": "dd37845d",
   "metadata": {},
   "outputs": [
    {
     "name": "stdout",
     "output_type": "stream",
     "text": [
      "[0.  0.  0.3 0.9 1.  1. ]\n"
     ]
    }
   ],
   "source": [
    "arr = np.array([-2, -0.5, 0.3, 0.9, 1.5, 3])\n",
    "clipped = np.clip(arr, 0, 1)\n",
    "print(clipped)"
   ]
  },
  {
   "cell_type": "code",
   "execution_count": null,
   "id": "23687a29",
   "metadata": {},
   "outputs": [],
   "source": [
    "f random.random() < self.mut_prob:\n",
    "            mutation_values = np.random.normal(0, self.mut_strength, self.dimension)\n",
    "            mutated_individual = individual + mutation_values\n",
    "            mutated_individual = np.clip(mutated_individual, self.lower_bounds, self.upper_bounds)\n",
    "            return mutated_individual\n",
    "        return individual.copy()"
   ]
  },
  {
   "cell_type": "code",
   "execution_count": 11,
   "id": "ac66449c",
   "metadata": {},
   "outputs": [
    {
     "name": "stdout",
     "output_type": "stream",
     "text": [
      "[[-7, 4], [-10, 1], [2, 9], [-9, 7], [5, 6], [3, 4], [1, 5], [-3, -3], [8, 10], [5, 5], [8, 10], [7, 9], [6, 10], [-10, -8], [3, 4], [-10, 1], [-7, -1], [5, 7], [-8, -3], [-10, -10], [-5, 10], [5, 5], [-3, 2], [3, 5], [5, 6], [9, 9], [5, 7], [2, 4], [-1, 6], [4, 4]]\n"
     ]
    }
   ],
   "source": [
    "import random\n",
    "\n",
    "dims = 30\n",
    "def create_random_bounds_list(num_components=dims, min_val=-10, max_val=10):\n",
    "    \"\"\"\n",
    "    Creates a list of random [a, b] bounds.\n",
    "\n",
    "    Args:\n",
    "        num_components (int): The number of [a, b] pairs to generate.\n",
    "        min_val (int): The minimum possible value for 'a' and 'b'.\n",
    "        max_val (int): The maximum possible value for 'a' and 'b'.\n",
    "\n",
    "    Returns:\n",
    "        list: A list of lists, e.g., [[-5, 2], [0, 8], ...]\n",
    "    \"\"\"\n",
    "    bounds_list = []\n",
    "    for _ in range(num_components):\n",
    "        a = random.randint(min_val, max_val -1) # Ensure 'a' can be less than 'max_val' to allow 'b' to be 'max_val'\n",
    "        b = random.randint(a, max_val)         # Ensure b >= a\n",
    "        bounds_list.append([a, b])\n",
    "    return bounds_list\n",
    "\n",
    "# Generate the list of 30 random bounds\n",
    "random_bounds = create_random_bounds_list(30)\n",
    "\n",
    "# Print the generated list (optional)\n",
    "# for i, bound_pair in enumerate(random_bounds):\n",
    "#     print(f\"Component {i+1}: {bound_pair}\")\n",
    "\n",
    "print(random_bounds)"
   ]
  },
  {
   "cell_type": "code",
   "execution_count": 12,
   "id": "04044bed",
   "metadata": {},
   "outputs": [],
   "source": [
    "from independent_obj_func import sphere_objective_for_rcga\n",
    "from simpleGA import SimpleRCGA\n",
    "\n",
    "rcga = SimpleRCGA(objective_function=sphere_objective_for_rcga,\n",
    "                  dimension=dims, bounds=random_bounds)"
   ]
  },
  {
   "cell_type": "code",
   "execution_count": 13,
   "id": "cfc4b3c0",
   "metadata": {},
   "outputs": [
    {
     "data": {
      "text/plain": [
       "(array([ -3.32517811,  -1.38631044,   7.86179129,  -1.45014865,\n",
       "          5.50101485,   3.60650417,   3.01768394,  -3.        ,\n",
       "          8.69708867,   5.        ,   8.69337661,   7.42466195,\n",
       "          9.0060345 ,  -9.19859381,   3.24411347,  -1.08430913,\n",
       "         -4.43984574,   6.81120034,  -3.7519164 , -10.        ,\n",
       "         -0.68945411,   5.        ,  -0.34338907,   3.00795517,\n",
       "          5.45142659,   9.        ,   6.85004364,   2.1881757 ,\n",
       "          4.95534246,   4.        ]),\n",
       " np.float64(964.8336457164237))"
      ]
     },
     "execution_count": 13,
     "metadata": {},
     "output_type": "execute_result"
    }
   ],
   "source": [
    "individuals = rcga._create_individual()\n",
    "\n",
    "rcga.optimize(50)"
   ]
  },
  {
   "cell_type": "code",
   "execution_count": null,
   "id": "ffde46af",
   "metadata": {},
   "outputs": [],
   "source": [
    "import numpy as np\n",
    "from scipy.io import loadmat\n",
    "import os\n",
    "import logging\n",
    "from typing import Optional, Tuple, List\n",
    "\n",
    "class HybridPSO_NelderMead:\n",
    "    def __init__(self, budget: int, dim: int, lower_bounds: list[float], upper_bounds: list[float]):\n",
    "        self.budget = int(budget)\n",
    "        self.dim = int(dim)\n",
    "        self.lower_bounds = np.array(lower_bounds, dtype=float)\n",
    "        self.upper_bounds = np.array(upper_bounds, dtype=float)\n",
    "\n",
    "        self.eval_count = 0\n",
    "        self.best_solution_overall = np.random.uniform(self.lower_bounds, self.upper_bounds, self.dim)\n",
    "        self.best_fitness_overall = float('inf')\n",
    "\n",
    "        self.population_size = 50\n",
    "        self.population = None\n",
    "        self.velocities = None\n",
    "        self.personal_bests = None\n",
    "        self.personal_best_fitness = None\n",
    "        self.global_best = None\n",
    "        self.inertia_weight = 0.7\n",
    "        self.cognitive_coefficient = 1.4\n",
    "        self.social_coefficient = 1.4\n",
    "\n",
    "\n",
    "    def optimize(self, objective_function: callable) -> tuple:\n",
    "        self.eval_count = 0\n",
    "        self.population = np.random.uniform(self.lower_bounds, self.upper_bounds, (self.population_size, self.dim))\n",
    "        self.velocities = np.zeros_like(self.population)\n",
    "        self.personal_bests = self.population.copy()\n",
    "        self.personal_best_fitness = np.full(self.population_size, np.inf)\n",
    "        self.global_best = None\n",
    "\n",
    "        fitness_values = objective_function(self.population)\n",
    "        self.eval_count += self.population_size\n",
    "        \n",
    "        for i, fitness in enumerate(fitness_values):\n",
    "            if fitness < self.personal_best_fitness[i]:\n",
    "                self.personal_best_fitness[i] = fitness\n",
    "                self.personal_bests[i] = self.population[i].copy()\n",
    "            if fitness < self.best_fitness_overall:\n",
    "                self.best_fitness_overall = fitness\n",
    "                self.best_solution_overall = self.population[i].copy()\n",
    "                self.global_best = self.population[i].copy()\n",
    "\n",
    "        while self.eval_count < self.budget:\n",
    "            self.update_velocities()\n",
    "            self.update_positions()\n",
    "            fitness_values = objective_function(self.population)\n",
    "            self.eval_count += self.population_size\n",
    "            for i, fitness in enumerate(fitness_values):\n",
    "                if fitness < self.personal_best_fitness[i]:\n",
    "                    self.personal_best_fitness[i] = fitness\n",
    "                    self.personal_bests[i] = self.population[i].copy()\n",
    "                if fitness < self.best_fitness_overall:\n",
    "                    self.best_fitness_overall = fitness\n",
    "                    self.best_solution_overall = self.population[i].copy()\n",
    "                    self.global_best = self.population[i].copy()\n",
    "\n",
    "            #Nelder-Mead local search\n",
    "            self.nelder_mead_local_search(objective_function)\n",
    "\n",
    "\n",
    "        optimization_info = {\n",
    "            'function_evaluations_used': self.eval_count,\n",
    "            'final_best_fitness': self.best_fitness_overall\n",
    "        }\n",
    "\n",
    "        return self.best_solution_overall, self.best_fitness_overall, optimization_info\n",
    "\n",
    "\n",
    "    def update_velocities(self):\n",
    "        r1 = np.random.rand(self.population_size, self.dim)\n",
    "        r2 = np.random.rand(self.population_size, self.dim)\n",
    "        self.velocities = self.inertia_weight * self.velocities + \\\n",
    "                          self.cognitive_coefficient * r1 * (self.personal_bests - self.population) + \\\n",
    "                          self.social_coefficient * r2 * (self.global_best - self.population)\n",
    "\n",
    "    def update_positions(self):\n",
    "        self.population = self.population + self.velocities\n",
    "        self.population = np.clip(self.population, self.lower_bounds, self.upper_bounds)\n",
    "\n",
    "\n",
    "    def nelder_mead_local_search(self, objective_function):\n",
    "        if self.eval_count < self.budget:\n",
    "            simplex = np.stack([self.best_solution_overall] + [np.random.uniform(self.lower_bounds, self.upper_bounds, self.dim) for _ in range(self.dim)])\n",
    "            \n",
    "            for _ in range(100): # Limit iterations to avoid excessive local search time\n",
    "                if self.eval_count >= self.budget:\n",
    "                    break\n",
    "                fitness_values = objective_function(simplex)\n",
    "                self.eval_count += simplex.shape[0]\n",
    "                #Simple Nelder Mead implementation, can be improved\n",
    "                sorted_indices = np.argsort(fitness_values)\n",
    "                best_point = simplex[sorted_indices[0]]\n",
    "                worst_point = simplex[sorted_indices[-1]]\n",
    "                centroid = np.mean(simplex[sorted_indices[:-1]], axis=0)\n",
    "                reflection_point = 2 * centroid - worst_point\n",
    "                reflection_fitness = objective_function(reflection_point.reshape(1, -1))\n",
    "                self.eval_count += 1\n",
    "\n",
    "                if reflection_fitness < self.best_fitness_overall:\n",
    "                    self.best_fitness_overall = reflection_fitness\n",
    "                    self.best_solution_overall = reflection_point.copy()\n",
    "                    simplex[sorted_indices[-1]] = reflection_point\n",
    "                else:\n",
    "                    break # Simplified termination condition\n",
    "def run_optimization(MaxEvals, AcceptanceThreshold, \n",
    "                     Dimension, CompNum, MinCoordinate, MaxCoordinate,\n",
    "                     CompMinPos, CompSigma, CompH, Mu, Omega,\n",
    "                     Lambda, RotationMatrix, OptimumValue, OptimumPosition,\n",
    "                    num_runs: int = 31,\n",
    "                    seed: Optional[int] = None) -> Tuple[List[float], List[np.ndarray]]:\n",
    "    \"\"\"\n",
    "    Run multiple optimization runs for a given problem\n",
    "    \n",
    "    Args:\n",
    "        problem_index: GNBG problem index (1-24)\n",
    "        num_runs: Number of independent runs\n",
    "        seed: Random seed for reproducibility\n",
    "        \n",
    "    Returns:\n",
    "        Tuple of (best_fitness_values, best_solutions)\n",
    "    \"\"\"\n",
    "    if seed is not None:\n",
    "        np.random.seed(seed)\n",
    "    \n",
    "    # Load problem instance\n",
    "    from codes.gnbg_python.GNBG_instances import GNBG\n",
    "    gnbg = GNBG(MaxEvals, AcceptanceThreshold, Dimension, CompNum, MinCoordinate, MaxCoordinate, CompMinPos, CompSigma, CompH, Mu, Omega, Lambda, RotationMatrix, OptimumValue, OptimumPosition)\n",
    "    # Set up bounds\n",
    "    bounds = (gnbg.MinCoordinate, gnbg.MaxCoordinate)\n",
    "    \n",
    "    # Initialize results storage\n",
    "    best_values = []\n",
    "    best_solutions = []\n",
    "    \n",
    "    for run in range(num_runs):\n",
    "        logging.info(f\"Starting run {run + 1}/{num_runs}\")\n",
    "        \n",
    "        # Initialize algorithm\n",
    "       \n",
    "        \n",
    "        optimizer = HybridPSO_NelderMead(\n",
    "            budget=gnbg.MaxEvals,\n",
    "            dim=gnbg.Dimension,\n",
    "            lower_bounds=[gnbg.MinCoordinate for _ in range(gnbg.Dimension)],\n",
    "            upper_bounds=[gnbg.MaxCoordinate for _ in range(gnbg.Dimension)]\n",
    "        )\n",
    "        \n",
    "        # Run optimization\n",
    "        best_solution, best_fitness, _ = optimizer.optimize(\n",
    "            objective_function=gnbg.fitness\n",
    "        )\n",
    "        \n",
    "        best_values.append(best_fitness)\n",
    "        best_solutions.append(best_solution)\n",
    "        \n",
    "        logging.info(f\"Run {run + 1} completed. Best fitness: {best_fitness}\")\n",
    "    \n",
    "    return best_values, best_solutions\n",
    "if __name__ == \"__main__\":\n",
    "    folder_path = \"codes/gnbg_python\"\n",
    "    # Example usage\n",
    "    ProblemIndex = 2\n",
    "    if 1 <= ProblemIndex <= 24:\n",
    "        \n",
    "        filename = f'f{ProblemIndex}.mat'\n",
    "        GNBG_tmp = loadmat(os.path.join(folder_path, filename))['GNBG']\n",
    "        MaxEvals = np.array([item[0] for item in GNBG_tmp['MaxEvals'].flatten()])[0, 0]\n",
    "        AcceptanceThreshold = np.array([item[0] for item in GNBG_tmp['AcceptanceThreshold'].flatten()])[0, 0]\n",
    "        Dimension = np.array([item[0] for item in GNBG_tmp['Dimension'].flatten()])[0, 0]\n",
    "        CompNum = np.array([item[0] for item in GNBG_tmp['o'].flatten()])[0, 0]  # Number of components\n",
    "        MinCoordinate = np.array([item[0] for item in GNBG_tmp['MinCoordinate'].flatten()])[0, 0]\n",
    "        MaxCoordinate = np.array([item[0] for item in GNBG_tmp['MaxCoordinate'].flatten()])[0, 0]\n",
    "        CompMinPos = np.array(GNBG_tmp['Component_MinimumPosition'][0, 0])\n",
    "        CompSigma = np.array(GNBG_tmp['ComponentSigma'][0, 0], dtype=np.float64)\n",
    "        CompH = np.array(GNBG_tmp['Component_H'][0, 0])\n",
    "        Mu = np.array(GNBG_tmp['Mu'][0, 0])\n",
    "        Omega = np.array(GNBG_tmp['Omega'][0, 0])\n",
    "        Lambda = np.array(GNBG_tmp['lambda'][0, 0])\n",
    "        RotationMatrix = np.array(GNBG_tmp['RotationMatrix'][0, 0])\n",
    "        OptimumValue = np.array([item[0] for item in GNBG_tmp['OptimumValue'].flatten()])[0, 0]\n",
    "        OptimumPosition = np.array(GNBG_tmp['OptimumPosition'][0, 0])\n",
    "        \n",
    "        best_values, best_solutions = run_optimization(MaxEvals, AcceptanceThreshold, Dimension, CompNum, MinCoordinate, MaxCoordinate,\n",
    "                                                       CompMinPos, CompSigma, CompH, Mu, Omega, Lambda, RotationMatrix, OptimumValue, OptimumPosition)\n",
    "    else:\n",
    "        raise ValueError('ProblemIndex must be between 1 and 24.')\n",
    "    \n",
    "    print(f\"\\nResults for Problem {ProblemIndex}:\")\n",
    "    print(f\"Best solution: {best_solutions}\")\n",
    "\n",
    "    print(f\"Best fitness values: {best_values}\")\n",
    "    print(f\"Mean fitness: {np.mean(best_values)}\")\n",
    "    print(f\"Std fitness: {np.std(best_values)}\") "
   ]
  },
  {
   "cell_type": "code",
   "execution_count": null,
   "id": "f38478f9",
   "metadata": {},
   "outputs": [
    {
     "data": {
      "text/plain": [
       "[array([-701.38228397]),\n",
       " array([-701.40752683]),\n",
       " array([-701.39165171]),\n",
       " array([-701.39545006]),\n",
       " array([-701.39219278]),\n",
       " array([-701.40072997]),\n",
       " array([-701.39465231]),\n",
       " array([-701.41351582]),\n",
       " array([-701.39316644]),\n",
       " array([-701.39600691]),\n",
       " array([-701.40612066]),\n",
       " array([-701.40616876]),\n",
       " array([-701.40055886]),\n",
       " array([-701.40576515]),\n",
       " array([-701.39422289]),\n",
       " array([-701.39859207]),\n",
       " array([-701.38671566]),\n",
       " array([-701.41207913]),\n",
       " array([-701.39848217]),\n",
       " array([-701.39516402]),\n",
       " array([-701.40336443]),\n",
       " array([-701.38904104]),\n",
       " array([-701.40554802]),\n",
       " array([-701.37800142]),\n",
       " array([-701.39489238]),\n",
       " array([-701.40109902]),\n",
       " array([-701.39335988]),\n",
       " array([-701.39453926]),\n",
       " array([-701.38891138]),\n",
       " array([-701.38744312])]"
      ]
     },
     "execution_count": 38,
     "metadata": {},
     "output_type": "execute_result"
    }
   ],
   "source": [
    "auc_mean = 0\n",
    "auc_std = 0\n",
    "detailed_aucs = [0, 0, 0] # 3 function groups of GNBG benchmark, 3 detaiteed fedback       code = solution.code\n",
    "algorithm_name = solution.name\n",
    "code = solution.code\n",
    "print(\"Gonna execute\")\n",
    "exec(code, globals()) # extract the code part inside the string, ex exec(\"a = 3 + 4\") -> print(a) -> 7\n",
    "print(\"Finish execute\")\n",
    "error = \"\"\n",
    "\n",
    "aucs = []\n",
    "detail_aucs = []\n",
    "algorithm = None\n",
    "for dim in [5]:\n",
    "    for fid in np.arange(1, 25): # cal 24 functions from GNBG\n",
    "        filename = f'f{fid}.mat'\n",
    "        GNBG_tmp = loadmat(os.path.join(\"codes/gnbg_python\", filename))['GNBG']\n",
    "        MaxEvals = np.array([item[0] for item in GNBG_tmp['MaxEvals'].flatten()])[0, 0]\n",
    "        AcceptanceThreshold = np.array([item[0] for item in GNBG_tmp['AcceptanceThreshold'].flatten()])[0, 0]\n",
    "        Dimension = np.array([item[0] for item in GNBG_tmp['Dimension'].flatten()])[0, 0]\n",
    "        CompNum = np.array([item[0] for item in GNBG_tmp['o'].flatten()])[0, 0]  # Number of components\n",
    "        MinCoordinate = np.array([item[0] for item in GNBG_tmp['MinCoordinate'].flatten()])[0, 0]\n",
    "        MaxCoordinate = np.array([item[0] for item in GNBG_tmp['MaxCoordinate'].flatten()])[0, 0]\n",
    "        CompMinPos = np.array(GNBG_tmp['Component_MinimumPosition'][0, 0])\n",
    "        CompSigma = np.array(GNBG_tmp['ComponentSigma'][0, 0], dtype=np.float64)\n",
    "        CompH = np.array(GNBG_tmp['Component_H'][0, 0])\n",
    "        Mu = np.array(GNBG_tmp['Mu'][0, 0])\n",
    "        Omega = np.array(GNBG_tmp['Omega'][0, 0])\n",
    "        Lambda = np.array(GNBG_tmp['lambda'][0, 0])\n",
    "        RotationMatrix = np.array(GNBG_tmp['RotationMatrix'][0, 0])\n",
    "        OptimumValue = np.array([item[0] for item in GNBG_tmp['OptimumValue'].flatten()])[0, 0]\n",
    "        OptimumPosition = np.array(GNBG_tmp['OptimumPosition'][0, 0])\n",
    "        problem = GNBG(MaxEvals, AcceptanceThreshold, Dimension, CompNum, MinCoordinate, MaxCoordinate, CompMinPos, CompSigma, CompH, Mu, Omega, Lambda, RotationMatrix, OptimumValue, OptimumPosition)\n",
    "\n",
    "        print(\"Run or not!\")\n",
    "        for rep in range(5):\n",
    "            np.random.seed(rep)\n",
    "            try:\n",
    "                print(\"Create the algorithm\")\n",
    "                algorithm = globals()[algorithm_name](budget=problem.MaxEvals, dim=problem.Dimension,\n",
    "                    lower_bounds = [problem.MinCoordinate] * problem.Dimension,\n",
    "                    upper_bounds = [problem.MaxCoordinate] * problem.Dimension\n",
    "                    )\n",
    "                print(\"Optimize the algorithm\")\n",
    "                algorithm.optimize(fitness_func=problem.fitness, \n",
    "        acceptance_threshold=problem.AcceptanceThreshold)\n",
    "                print(\"Successful run the algo\")\n",
    "            except Exception:\n",
    "                print(\"Can not run the algorithm\")\n",
    "            auc = calculate_aocc_from_gnbg_history(fe_history=problem.FEhistory,\n",
    "                                                    optimum_value=problem.OptimumValue, \n",
    "                                                budget_B=problem.MaxEvals\n",
    "                                            )"
   ]
  },
  {
   "cell_type": "code",
   "execution_count": null,
   "id": "efa69677",
   "metadata": {},
   "outputs": [],
   "source": [
    "# f1, f2, ...f24\n",
    "\n",
    "# divided into 5 function groups;\n",
    "# just ex: \n",
    "# seperate function: f1, f2, ..f5 \n",
    "# functions with low or moderate conditioning: f6,..., f10;\n",
    "# calculating AOCC\n",
    "\n",
    "# ....\n",
    "\n",
    "# each function will run through 3 instances, 3 independent run perfunction -> 9 run\n",
    "\n"
   ]
  },
  {
   "cell_type": "code",
   "execution_count": 5,
   "id": "e39f4ee5",
   "metadata": {},
   "outputs": [
    {
     "data": {
      "text/plain": [
       "<RealSingleObjectiveProblem 1. Sphere (iid=2 dim=5)>"
      ]
     },
     "execution_count": 5,
     "metadata": {},
     "output_type": "execute_result"
    }
   ],
   "source": [
    "from ioh import get_problem\n",
    "get_problem(fid=1, instance=2, dimension=5)"
   ]
  },
  {
   "cell_type": "code",
   "execution_count": 10,
   "id": "85052835",
   "metadata": {},
   "outputs": [],
   "source": [
    "from scipy.io import loadmat\n",
    "data = loadmat(\"codes/gnbg_python/f1.mat\")"
   ]
  },
  {
   "cell_type": "code",
   "execution_count": null,
   "id": "31a3b6af",
   "metadata": {},
   "outputs": [
    {
     "data": {
      "text/plain": [
       "dtype([('MaxEvals', 'O'), ('AcceptanceThreshold', 'O'), ('Dimension', 'O'), ('o', 'O'), ('MinCoordinate', 'O'), ('MaxCoordinate', 'O'), ('MinRandOptimaPos', 'O'), ('MaxRandOptimaPos', 'O'), ('MinExclusiveRange', 'O'), ('MaxExclusiveRange', 'O'), ('ComponentPositioningMethod', 'O'), ('Component_MinimumPosition', 'O'), ('MinSigma', 'O'), ('MaxSigma', 'O'), ('ComponentSigma', 'O'), ('H_pattern', 'O'), ('H_value', 'O'), ('Component_H', 'O'), ('MaxMu', 'O'), ('MinMu', 'O'), ('MaxOmega', 'O'), ('MinOmega', 'O'), ('localModalitySymmetry', 'O'), ('Mu', 'O'), ('Omega', 'O'), ('MaxLambda', 'O'), ('MinLambda', 'O'), ('LambdaConfigMethod', 'O'), ('LambdaValue4ALL', 'O'), ('lambda', 'O'), ('MinAngle', 'O'), ('MaxAngle', 'O'), ('Rotation', 'O'), ('RotationMatrix', 'O'), ('OptimumValue', 'O'), ('OptimumPosition', 'O'), ('FEhistory', 'O'), ('FE', 'O'), ('AcceptanceReachPoint', 'O'), ('BestFoundResult', 'O')])"
      ]
     },
     "execution_count": 13,
     "metadata": {},
     "output_type": "execute_result"
    }
   ],
   "source": [
    "gnbg_tmp_data = data['GNBG']"
   ]
  },
  {
   "cell_type": "code",
   "execution_count": 14,
   "id": "2f2510a8",
   "metadata": {},
   "outputs": [],
   "source": [
    "def get_param(data_dict, key, is_scalar=True, dtype=None):\n",
    "    val_array = data_dict[key].flatten()\n",
    "    if not val_array.size: return None\n",
    "    val = val_array[0]\n",
    "    if is_scalar and isinstance(val, np.ndarray) and val.ndim >=0 : # Handle 0-dim arrays from MATLAB\n",
    "        # Check if it's a scalar within a 1x1 array or just a scalar array\n",
    "        if val.size == 1:\n",
    "                val = val.item() # Get Python scalar\n",
    "        # else it's an array meant to be returned as such, but flatten took [0]\n",
    "        # This part needs to be careful based on .mat structure.\n",
    "        # For GNBG, most scalars are wrapped like [[value]].\n",
    "        elif val.ndim == 2 and val.shape[0] ==1 and val.shape[1] == 1:\n",
    "                val = val[0,0]\n",
    "\n",
    "    if isinstance(val, np.ndarray) and not is_scalar : # if it's meant to be an array\n",
    "            pass # val is already an array\n",
    "    elif is_scalar and not isinstance(val, np.ndarray): # it's already a python scalar\n",
    "            pass\n",
    "\n",
    "    if dtype: return np.array(val, dtype=dtype) # Ensure it's np.array if not scalar\n",
    "    return np.array(val) if not isinstance(val, (int, float, np.number)) else val\n"
   ]
  },
  {
   "cell_type": "code",
   "execution_count": 18,
   "id": "3bc29460",
   "metadata": {},
   "outputs": [],
   "source": [
    "get_param(gnbg_tmp_data, 'MaxEvals')\n",
    "problem_accept_thresh = float(get_param(gnbg_tmp_data, 'AcceptanceThreshold'))\n",
    "problem_dimension = int(get_param(gnbg_tmp_data, 'Dimension'))\n",
    "problem_comp_num = int(get_param(gnbg_tmp_data, 'o'))\n",
    "problem_min_coord = float(get_param(gnbg_tmp_data, 'MinCoordinate'))\n",
    "problem_max_coord = float(get_param(gnbg_tmp_data, 'MaxCoordinate'))\n",
    "\n",
    "problem_comp_min_pos = get_param(gnbg_tmp_data, 'Component_MinimumPosition', is_scalar=False)\n",
    "problem_comp_sigma_flat = get_param(gnbg_tmp_data, 'ComponentSigma', is_scalar=False, dtype=np.float64)\n",
    "problem_comp_sigma = problem_comp_sigma_flat.flatten() if problem_comp_sigma_flat.ndim > 0 else np.array([problem_comp_sigma_flat.item()])\n",
    "\n",
    "\n",
    "problem_comp_h = get_param(gnbg_tmp_data, 'Component_H', is_scalar=False)\n",
    "problem_mu = get_param(gnbg_tmp_data, 'Mu', is_scalar=False)\n",
    "problem_omega = get_param(gnbg_tmp_data, 'Omega', is_scalar=False)\n",
    "\n",
    "problem_lambda_flat = get_param(gnbg_tmp_data, 'lambda', is_scalar=False)\n",
    "problem_lambda = problem_lambda_flat.flatten() if problem_lambda_flat.ndim > 0 else np.array([problem_lambda_flat.item()])\n",
    "\n",
    "\n",
    "problem_rot_matrix = get_param(gnbg_tmp_data, 'RotationMatrix', is_scalar=False)\n",
    "problem_opt_value = float(get_param(gnbg_tmp_data, 'OptimumValue'))\n",
    "problem_opt_pos = get_param(gnbg_tmp_data, 'OptimumPosition', is_scalar=False)"
   ]
  },
  {
   "cell_type": "code",
   "execution_count": 21,
   "id": "89130624",
   "metadata": {},
   "outputs": [
    {
     "data": {
      "text/plain": [
       "1e-08"
      ]
     },
     "execution_count": 21,
     "metadata": {},
     "output_type": "execute_result"
    }
   ],
   "source": [
    "problem_accept_thresh"
   ]
  },
  {
   "cell_type": "code",
   "execution_count": null,
   "id": "61c56ba0",
   "metadata": {},
   "outputs": [
    {
     "name": "stdout",
     "output_type": "stream",
     "text": [
      "Best solution: [0. 0. 0.]\n",
      "Function value: 0.0\n"
     ]
    }
   ],
   "source": [
    "import numpy as np\n",
    "from scipy.optimize import differential_evolution\n",
    "\n",
    "def sphere(x):\n",
    "    return sum(xi**2 for xi in x)\n",
    "\n",
    "bounds = [(-5, 5)] * 3\n",
    "result = differential_evolution(sphere, bounds)\n",
    "\n",
    "print(\"Best solution:\", result.x)\n",
    "print(\"Function value:\", result.fun)\n",
    "\n",
    "# result = differential_evolution(func, bounds, args=(), strategy='best1bin', \n",
    "#                                 maxiter=1000, popsize=15, tol=0.01, \n",
    "#                                 mutation=(0.5, 1), recombination=0.7, seed=None, \n",
    "#                                 callback=None, disp=False, polish=True, \n",
    "#                                 init='latinhypercube', atol=0)\n",
    "\n",
    "# Key Parameters:\n",
    "# func: The objective function to be minimized.\n",
    "\n",
    "# bounds: A list of tuples specifying the lower and upper bounds for each parameter.\n",
    "\n",
    "# strategy: The differential evolution strategy to use (e.g., 'best1bin').\n",
    "\n",
    "# maxiter: Maximum number of generations.\n",
    "\n",
    "# popsize: Population size (total population is popsize * len(bounds)).\n",
    "\n",
    "# mutation: Mutation constant or range.\n",
    "\n",
    "# recombination: Crossover probability.\n",
    "\n",
    "# polish: If True, uses L-BFGS-B to refine the best solution.\n",
    "\n",
    "# init: Method to initialize the population ('latinhypercube', 'random', or array).\n",
    "\n",
    "# seed: Random seed for reproducibility."
   ]
  },
  {
   "cell_type": "code",
   "execution_count": 23,
   "id": "716b54dd",
   "metadata": {},
   "outputs": [],
   "source": [
    "from LLaMEA.llamea.llm import Ollama_LLM\n",
    "\n",
    "llm = Ollama_LLM(model=\"codellama:7b\")"
   ]
  },
  {
   "cell_type": "code",
   "execution_count": 25,
   "id": "516abd36",
   "metadata": {},
   "outputs": [
    {
     "name": "stderr",
     "output_type": "stream",
     "text": [
      "2025-05-23 19:12:13 INFO HTTP Request: POST http://127.0.0.1:11434/api/chat \"HTTP/1.1 200 OK\"\n"
     ]
    },
    {
     "name": "stdout",
     "output_type": "stream",
     "text": [
      "LLM Response:\n",
      " A  black hole is formed when a massive star collapses into a singularity. The star's gravity eventually becomes so strong that it warps space and time around the star, creating a boundary called the event horizon. Once something crosses the event horizon, there is no escape from the black hole's gravitational pull. Any matter or energy that gets too close to the black hole will be pulled in and crushed out of existence.\n",
      "\n",
      "\n"
     ]
    }
   ],
   "source": [
    "messages = [\n",
    "        {\"role\": \"user\", \"content\": \"Explain how a black hole forms in simple terms.\"}\n",
    "    ]\n",
    "\n",
    "reply = llm.query(messages)\n",
    "print(\"LLM Response:\\n\", reply)"
   ]
  },
  {
   "cell_type": "code",
   "execution_count": null,
   "id": "7a756893",
   "metadata": {},
   "outputs": [],
   "source": [
    "# LLAMEA\n",
    "# initialize -> update_best -> "
   ]
  },
  {
   "cell_type": "code",
   "execution_count": null,
   "id": "8d16fb29",
   "metadata": {},
   "outputs": [],
   "source": []
  }
 ],
 "metadata": {
  "kernelspec": {
   "display_name": "eoh",
   "language": "python",
   "name": "python3"
  },
  "language_info": {
   "codemirror_mode": {
    "name": "ipython",
    "version": 3
   },
   "file_extension": ".py",
   "mimetype": "text/x-python",
   "name": "python",
   "nbconvert_exporter": "python",
   "pygments_lexer": "ipython3",
   "version": "3.12.9"
  }
 },
 "nbformat": 4,
 "nbformat_minor": 5
}
