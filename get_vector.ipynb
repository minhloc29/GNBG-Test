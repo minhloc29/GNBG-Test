{
 "cells": [
  {
   "cell_type": "code",
   "execution_count": 26,
   "id": "949f0f23",
   "metadata": {},
   "outputs": [],
   "source": [
    "import os\n",
    "import numpy as np\n",
    "from scipy.io import loadmat\n",
    "import matplotlib.pyplot as plt\n",
    "from scipy.optimize import differential_evolution\n",
    "from codes.gnbg_python.GNBG_instances import GNBG\n",
    "# Define the path to the folder where you want to read/write files\n",
    "folder_path = \"codes/gnbg_python\"\n",
    "\n",
    "# Initialization\n",
    "ProblemIndex = 13 # Choose a problem instance range from f1 to f24\n",
    "\n",
    "# Preparation and loading of the GNBG parameters based on the chosen problem instance\n",
    "if 1 <= ProblemIndex <= 24:\n",
    "    filename = f'f{ProblemIndex}.mat'\n",
    "    GNBG_tmp = loadmat(os.path.join(folder_path, filename))['GNBG']\n",
    "    MaxEvals = np.array([item[0] for item in GNBG_tmp['MaxEvals'].flatten()])[0, 0]\n",
    "    AcceptanceThreshold = np.array([item[0] for item in GNBG_tmp['AcceptanceThreshold'].flatten()])[0, 0]\n",
    "    Dimension = np.array([item[0] for item in GNBG_tmp['Dimension'].flatten()])[0, 0]\n",
    "    CompNum = np.array([item[0] for item in GNBG_tmp['o'].flatten()])[0, 0]  # Number of components\n",
    "    MinCoordinate = np.array([item[0] for item in GNBG_tmp['MinCoordinate'].flatten()])[0, 0]\n",
    "    MaxCoordinate = np.array([item[0] for item in GNBG_tmp['MaxCoordinate'].flatten()])[0, 0]\n",
    "    CompMinPos = np.array(GNBG_tmp['Component_MinimumPosition'][0, 0])\n",
    "    CompSigma = np.array(GNBG_tmp['ComponentSigma'][0, 0], dtype=np.float64)\n",
    "    CompH = np.array(GNBG_tmp['Component_H'][0, 0])\n",
    "    Mu = np.array(GNBG_tmp['Mu'][0, 0])\n",
    "    Omega = np.array(GNBG_tmp['Omega'][0, 0])\n",
    "    Lambda = np.array(GNBG_tmp['lambda'][0, 0])\n",
    "    RotationMatrix = np.array(GNBG_tmp['RotationMatrix'][0, 0])\n",
    "    OptimumValue = np.array([item[0] for item in GNBG_tmp['OptimumValue'].flatten()])[0, 0]\n",
    "    OptimumPosition = np.array(GNBG_tmp['OptimumPosition'][0, 0])\n",
    "else:\n",
    "    raise ValueError('ProblemIndex must be between 1 and 24.')\n",
    "\n",
    "gnbg = GNBG(MaxEvals, AcceptanceThreshold, Dimension, CompNum, MinCoordinate, MaxCoordinate, CompMinPos, CompSigma, CompH, Mu, Omega, Lambda, RotationMatrix, OptimumValue, OptimumPosition)"
   ]
  },
  {
   "cell_type": "code",
   "execution_count": 27,
   "id": "8fbbd92e",
   "metadata": {},
   "outputs": [
    {
     "name": "stdout",
     "output_type": "stream",
     "text": [
      "Loaded 31 vectors.\n",
      "GNBG.fitness called with X shape: (1, 30), self.FE: 0, self.MaxEvals: 500000\n",
      "GNBG.fitness called with X shape: (1, 30), self.FE: 1, self.MaxEvals: 500000\n",
      "GNBG.fitness called with X shape: (1, 30), self.FE: 2, self.MaxEvals: 500000\n",
      "GNBG.fitness called with X shape: (1, 30), self.FE: 3, self.MaxEvals: 500000\n",
      "GNBG.fitness called with X shape: (1, 30), self.FE: 4, self.MaxEvals: 500000\n",
      "GNBG.fitness called with X shape: (1, 30), self.FE: 5, self.MaxEvals: 500000\n",
      "GNBG.fitness called with X shape: (1, 30), self.FE: 6, self.MaxEvals: 500000\n",
      "GNBG.fitness called with X shape: (1, 30), self.FE: 7, self.MaxEvals: 500000\n",
      "GNBG.fitness called with X shape: (1, 30), self.FE: 8, self.MaxEvals: 500000\n",
      "GNBG.fitness called with X shape: (1, 30), self.FE: 9, self.MaxEvals: 500000\n",
      "GNBG.fitness called with X shape: (1, 30), self.FE: 10, self.MaxEvals: 500000\n",
      "GNBG.fitness called with X shape: (1, 30), self.FE: 11, self.MaxEvals: 500000\n",
      "GNBG.fitness called with X shape: (1, 30), self.FE: 12, self.MaxEvals: 500000\n",
      "GNBG.fitness called with X shape: (1, 30), self.FE: 13, self.MaxEvals: 500000\n",
      "GNBG.fitness called with X shape: (1, 30), self.FE: 14, self.MaxEvals: 500000\n",
      "GNBG.fitness called with X shape: (1, 30), self.FE: 15, self.MaxEvals: 500000\n",
      "GNBG.fitness called with X shape: (1, 30), self.FE: 16, self.MaxEvals: 500000\n",
      "GNBG.fitness called with X shape: (1, 30), self.FE: 17, self.MaxEvals: 500000\n",
      "GNBG.fitness called with X shape: (1, 30), self.FE: 18, self.MaxEvals: 500000\n",
      "GNBG.fitness called with X shape: (1, 30), self.FE: 19, self.MaxEvals: 500000\n",
      "GNBG.fitness called with X shape: (1, 30), self.FE: 20, self.MaxEvals: 500000\n",
      "GNBG.fitness called with X shape: (1, 30), self.FE: 21, self.MaxEvals: 500000\n",
      "GNBG.fitness called with X shape: (1, 30), self.FE: 22, self.MaxEvals: 500000\n",
      "GNBG.fitness called with X shape: (1, 30), self.FE: 23, self.MaxEvals: 500000\n",
      "GNBG.fitness called with X shape: (1, 30), self.FE: 24, self.MaxEvals: 500000\n",
      "GNBG.fitness called with X shape: (1, 30), self.FE: 25, self.MaxEvals: 500000\n",
      "GNBG.fitness called with X shape: (1, 30), self.FE: 26, self.MaxEvals: 500000\n",
      "GNBG.fitness called with X shape: (1, 30), self.FE: 27, self.MaxEvals: 500000\n",
      "GNBG.fitness called with X shape: (1, 30), self.FE: 28, self.MaxEvals: 500000\n",
      "GNBG.fitness called with X shape: (1, 30), self.FE: 29, self.MaxEvals: 500000\n",
      "GNBG.fitness called with X shape: (1, 30), self.FE: 30, self.MaxEvals: 500000\n"
     ]
    }
   ],
   "source": [
    "vectors = []\n",
    "file_path = 'codes/gnbg_python/vec 3/f_13_param.txt'\n",
    "with open(file_path, 'r') as f:\n",
    "    for line in f:\n",
    "        # Convert comma-separated string to float array\n",
    "        vector = np.fromstring(line.strip(), sep=',')\n",
    "        vectors.append(vector)\n",
    "\n",
    "# Now `vectors` is a list of NumPy arrays\n",
    "print(f\"Loaded {len(vectors)} vectors.\")\n",
    "results = [gnbg.fitness(vec) for vec in vectors]"
   ]
  },
  {
   "cell_type": "code",
   "execution_count": 11,
   "id": "6ed37e48",
   "metadata": {},
   "outputs": [
    {
     "data": {
      "text/plain": [
       "[array([-4451.54352496]),\n",
       " array([-4399.89998331]),\n",
       " array([-4399.89989705]),\n",
       " array([-4456.08975784]),\n",
       " array([-4999.991895]),\n",
       " array([-4453.92473379]),\n",
       " array([-4461.0101884]),\n",
       " array([-4999.99709922]),\n",
       " array([-4467.61965485]),\n",
       " array([-4399.89993269]),\n",
       " array([-4399.89998749]),\n",
       " array([-4470.38905265]),\n",
       " array([-3889.48469495]),\n",
       " array([-4764.97194848]),\n",
       " array([-3937.90519755]),\n",
       " array([-4009.98689624]),\n",
       " array([-3886.76630867]),\n",
       " array([-4755.26736697]),\n",
       " array([-4894.92474543]),\n",
       " array([-4068.19991234]),\n",
       " array([-4162.57739895]),\n",
       " array([-4130.13780203]),\n",
       " array([-4702.5468423]),\n",
       " array([-4014.67239528]),\n",
       " array([-4140.65932519]),\n",
       " array([-4027.77829015]),\n",
       " array([-4141.74971163]),\n",
       " array([-4055.39877626]),\n",
       " array([-4189.55855468]),\n",
       " array([-3946.80504199]),\n",
       " array([-3881.67653666])]"
      ]
     },
     "execution_count": 11,
     "metadata": {},
     "output_type": "execute_result"
    }
   ],
   "source": [
    "results"
   ]
  },
  {
   "cell_type": "code",
   "execution_count": 28,
   "id": "d66f5001",
   "metadata": {},
   "outputs": [],
   "source": [
    "results\n",
    "with open(\"output.txt\", \"w\") as f:\n",
    "    for val in results:\n",
    "        f.write(f\"{val[0]}\\n\")"
   ]
  },
  {
   "cell_type": "code",
   "execution_count": 19,
   "id": "f8e6e2ef",
   "metadata": {},
   "outputs": [
    {
     "ename": "ValueError",
     "evalue": "could not convert string to float: ''",
     "output_type": "error",
     "traceback": [
      "\u001b[31m---------------------------------------------------------------------------\u001b[39m",
      "\u001b[31mValueError\u001b[39m                                Traceback (most recent call last)",
      "\u001b[36mCell\u001b[39m\u001b[36m \u001b[39m\u001b[32mIn[19]\u001b[39m\u001b[32m, line 4\u001b[39m\n\u001b[32m      2\u001b[39m \u001b[38;5;28;01mwith\u001b[39;00m \u001b[38;5;28mopen\u001b[39m(\u001b[33m\"\u001b[39m\u001b[33mcodes/gnbg_python/fitness_values/f_15_value.txt\u001b[39m\u001b[33m\"\u001b[39m, \u001b[33m\"\u001b[39m\u001b[33mr\u001b[39m\u001b[33m\"\u001b[39m) \u001b[38;5;28;01mas\u001b[39;00m file:\n\u001b[32m      3\u001b[39m     \u001b[38;5;28;01mfor\u001b[39;00m line \u001b[38;5;129;01min\u001b[39;00m file:\n\u001b[32m----> \u001b[39m\u001b[32m4\u001b[39m         value = \u001b[38;5;28;43mfloat\u001b[39;49m\u001b[43m(\u001b[49m\u001b[43mline\u001b[49m\u001b[43m.\u001b[49m\u001b[43mstrip\u001b[49m\u001b[43m(\u001b[49m\u001b[43m)\u001b[49m\u001b[43m)\u001b[49m\n\u001b[32m      5\u001b[39m         vectors.append(value)\n\u001b[32m      6\u001b[39m errors = gnbg.OptimumValue + vectors\n",
      "\u001b[31mValueError\u001b[39m: could not convert string to float: ''"
     ]
    }
   ],
   "source": [
    "vectors = []\n",
    "with open(\"codes/gnbg_python/fitness_values/f_15_value.txt\", \"r\") as file:\n",
    "    for line in file:\n",
    "        value = float(line.strip())\n",
    "        vectors.append(value)\n",
    "errors = gnbg.OptimumValue + vectors\n",
    "errors\n",
    "\n",
    "with open(\"output.txt\", \"w\") as f:\n",
    "    for val in errors:\n",
    "        f.write(f\"{val}\\n\")"
   ]
  },
  {
   "cell_type": "code",
   "execution_count": null,
   "id": "cf139bd0",
   "metadata": {},
   "outputs": [],
   "source": []
  }
 ],
 "metadata": {
  "kernelspec": {
   "display_name": "eoh",
   "language": "python",
   "name": "python3"
  },
  "language_info": {
   "codemirror_mode": {
    "name": "ipython",
    "version": 3
   },
   "file_extension": ".py",
   "mimetype": "text/x-python",
   "name": "python",
   "nbconvert_exporter": "python",
   "pygments_lexer": "ipython3",
   "version": "3.12.9"
  }
 },
 "nbformat": 4,
 "nbformat_minor": 5
}
